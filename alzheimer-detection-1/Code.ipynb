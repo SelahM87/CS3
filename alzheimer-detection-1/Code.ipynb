{
 "cells": [
  {
   "cell_type": "code",
   "execution_count": 1,
   "metadata": {},
   "outputs": [
    {
     "name": "stderr",
     "output_type": "stream",
     "text": [
      "/apps/software/standard/core/miniforge/24.3.0-py3.11/lib/python3.11/site-packages/tqdm/auto.py:21: TqdmWarning: IProgress not found. Please update jupyter and ipywidgets. See https://ipywidgets.readthedocs.io/en/stable/user_install.html\n",
      "  from .autonotebook import tqdm as notebook_tqdm\n"
     ]
    }
   ],
   "source": [
    "import numpy as np\n",
    "import cv2\n",
    "import os\n",
    "import torch\n",
    "from sklearn.model_selection import train_test_split\n",
    "import pandas as pd\n",
    "import torch\n",
    "import torch.nn as nn\n",
    "import torch.optim as optim\n",
    "import torchvision\n",
    "from torchvision import datasets, models, transforms\n",
    "import matplotlib.pyplot as plt\n",
    "import matplotlib.image as mpimg\n",
    "from tqdm.auto import tqdm"
   ]
  },
  {
   "cell_type": "code",
   "execution_count": null,
   "metadata": {},
   "outputs": [],
   "source": []
  },
  {
   "cell_type": "code",
   "execution_count": 2,
   "metadata": {},
   "outputs": [
    {
     "name": "stdout",
     "output_type": "stream",
     "text": [
      "loading Roboflow workspace...\n",
      "loading Roboflow project...\n"
     ]
    },
    {
     "name": "stderr",
     "output_type": "stream",
     "text": [
      "Downloading Dataset Version Zip in alzheimer-detection-1 to folder:: 100%|██████████| 375281/375281 [00:10<00:00, 37054.29it/s]"
     ]
    },
    {
     "name": "stdout",
     "output_type": "stream",
     "text": [
      "\n"
     ]
    },
    {
     "name": "stderr",
     "output_type": "stream",
     "text": [
      "\n",
      "Extracting Dataset Version Zip to alzheimer-detection-1 in folder:: 100%|██████████| 9778/9778 [00:16<00:00, 583.62it/s]\n"
     ]
    }
   ],
   "source": [
    "#Grabs MRI images from \n",
    "from roboflow import Roboflow\n",
    "rf = Roboflow(api_key=\"my key\")# addd your personal api key \n",
    "project = rf.workspace(\"alzheimer-h49wu\").project(\"alzheimer-detection-ra7oh\")\n",
    "version = project.version(1)\n",
    "dataset = version.download(\"folder\")"
   ]
  },
  {
   "cell_type": "code",
   "execution_count": 4,
   "metadata": {},
   "outputs": [
    {
     "name": "stdout",
     "output_type": "stream",
     "text": [
      "Images have been successfully combined into the 'combined' folder!\n",
      "Images have been successfully resplit into new train/test sets!\n"
     ]
    }
   ],
   "source": [
    "import os\n",
    "import shutil\n",
    "from sklearn.model_selection import train_test_split\n",
    "\n",
    "# Define the base directory \n",
    "base_dir = '/home/rkk6nx/Project3/CS3/alzheimer-detection-1'  # Update this path to where your data is located\n",
    "\n",
    "# Define the directories\n",
    "train_dir = os.path.join(base_dir, 'train')\n",
    "test_dir = os.path.join(base_dir, 'test')\n",
    "\n",
    "# The categories in your dataset\n",
    "labels = ['Mild Impairment', 'No Impairment', 'Moderate Impairment', 'Very Mild Impairment']\n",
    "\n",
    "# Create a new directory to combine train and test data\n",
    "combined_dir = os.path.join(base_dir, 'combined')\n",
    "os.makedirs(combined_dir, exist_ok=True)\n",
    "\n",
    "# Combine images from train and test for each impairment type\n",
    "for label in labels:\n",
    "    # Paths for each category (train and test)\n",
    "    label_train_dir = os.path.join(train_dir, label)\n",
    "    label_test_dir = os.path.join(test_dir, label)\n",
    "\n",
    "    # Create the combined directory for this label\n",
    "    label_combined_dir = os.path.join(combined_dir, label)\n",
    "    os.makedirs(label_combined_dir, exist_ok=True)\n",
    "\n",
    "    # Get a list of all images in both the train and test directories\n",
    "    train_images = [os.path.join(label_train_dir, f) for f in os.listdir(label_train_dir) if f.endswith('.jpg')]\n",
    "    test_images = [os.path.join(label_test_dir, f) for f in os.listdir(label_test_dir) if f.endswith('.jpg')]\n",
    "\n",
    "    # Combine images\n",
    "    all_images = train_images + test_images\n",
    "\n",
    "    # Copy all images to the combined directory for this label\n",
    "    for img in all_images:\n",
    "        shutil.copy(img, label_combined_dir)\n",
    "\n",
    "print(\"Images have been successfully combined into the 'combined' folder!\")\n",
    "\n",
    "# Now resplit the combined data into a new train/test split\n",
    "new_train_dir = os.path.join(base_dir, 'new_train')\n",
    "new_test_dir = os.path.join(base_dir, 'new_test')\n",
    "os.makedirs(new_train_dir, exist_ok=True)\n",
    "os.makedirs(new_test_dir, exist_ok=True)\n",
    "\n",
    "# Split images into new train/test set for each label\n",
    "for label in labels:\n",
    "    label_combined_dir = os.path.join(combined_dir, label)\n",
    "\n",
    "    # Get all image paths for the label\n",
    "    all_images = [os.path.join(label_combined_dir, f) for f in os.listdir(label_combined_dir) if f.endswith('.jpg')]\n",
    "\n",
    "    # Split into train/test (80% train, 20% test) using sklearn's train_test_split\n",
    "    train_images, test_images = train_test_split(all_images, test_size=0.2, random_state=42)\n",
    "\n",
    "    # Create directories for the new train and test splits\n",
    "    label_new_train_dir = os.path.join(new_train_dir, label)\n",
    "    label_new_test_dir = os.path.join(new_test_dir, label)\n",
    "    os.makedirs(label_new_train_dir, exist_ok=True)\n",
    "    os.makedirs(label_new_test_dir, exist_ok=True)\n",
    "\n",
    "    # Move images to new train and test directories\n",
    "    for img in train_images:\n",
    "        shutil.copy(img, label_new_train_dir)\n",
    "    \n",
    "    for img in test_images:\n",
    "        shutil.copy(img, label_new_test_dir)\n",
    "\n",
    "print(\"Images have been successfully resplit into new train/test sets!\")\n"
   ]
  },
  {
   "cell_type": "code",
   "execution_count": null,
   "metadata": {},
   "outputs": [],
   "source": []
  }
 ],
 "metadata": {
  "kernelspec": {
   "display_name": "Python 3",
   "language": "python",
   "name": "python3"
  },
  "language_info": {
   "codemirror_mode": {
    "name": "ipython",
    "version": 3
   },
   "file_extension": ".py",
   "mimetype": "text/x-python",
   "name": "python",
   "nbconvert_exporter": "python",
   "pygments_lexer": "ipython3",
   "version": "3.11.6"
  }
 },
 "nbformat": 4,
 "nbformat_minor": 2
}
